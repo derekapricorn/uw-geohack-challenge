{
 "cells": [
  {
   "cell_type": "markdown",
   "metadata": {},
   "source": [
    "## Postprocess data to generate final result"
   ]
  },
  {
   "cell_type": "code",
   "execution_count": 6,
   "metadata": {},
   "outputs": [],
   "source": [
    "%reload_ext autoreload\n",
    "%autoreload 2\n",
    "%matplotlib inline\n",
    "\n",
    "from fastai.vision import *\n",
    "from fastai.callbacks.hooks import *\n",
    "from fastai.utils.mem import *\n",
    "from fastai.metrics import *\n",
    "from utils import *\n",
    "\n",
    "rand_seed = 42"
   ]
  },
  {
   "cell_type": "code",
   "execution_count": 21,
   "metadata": {},
   "outputs": [],
   "source": [
    "datapath = \"/home/derekdb/notebooks/uw-geohack-challenge/data\"\n",
    "path_eval = Path(datapath)/'eval_data'\n",
    "path_eval_imgs = path_eval/'patches'\n",
    "path_lbl_patches = path_eval/'label_patches'\n",
    "path_lbl_patches_resized = path_eval/'label_patches_resized'"
   ]
  },
  {
   "cell_type": "markdown",
   "metadata": {},
   "source": [
    "## Upsample prediction mask"
   ]
  },
  {
   "cell_type": "code",
   "execution_count": 20,
   "metadata": {},
   "outputs": [],
   "source": [
    "# Because the network downsamples images and produces masks of size 224x336 due to memory constraint, \n",
    "# we need to upsample the prediction masks to the same size as the input patches"
   ]
  },
  {
   "cell_type": "code",
   "execution_count": 22,
   "metadata": {},
   "outputs": [],
   "source": [
    "batch_process(resize_mask, str(path_lbl_patches), str(path_lbl_patches_resized))"
   ]
  },
  {
   "cell_type": "markdown",
   "metadata": {},
   "source": [
    "## Stitch up all mask patches to get final result in 5160x7068"
   ]
  },
  {
   "cell_type": "code",
   "execution_count": 23,
   "metadata": {},
   "outputs": [
    {
     "data": {
      "text/plain": [
       "'/home/derekdb/notebooks/uw-geohack-challenge/data/eval_data/label_patches_resized/ortho_eval_10_1.png'"
      ]
     },
     "execution_count": 23,
     "metadata": {},
     "output_type": "execute_result"
    }
   ],
   "source": [
    "# stich up all the label patches and assign 255 to positive pixels\n",
    "lbl_patch_list = [str(x) for x in get_image_files(path_lbl_patches_resized)]\n",
    "lbl_patch_list[0]"
   ]
  },
  {
   "cell_type": "code",
   "execution_count": 24,
   "metadata": {
    "scrolled": true
   },
   "outputs": [
    {
     "name": "stdout",
     "output_type": "stream",
     "text": [
      "/home/derekdb/notebooks/uw-geohack-challenge/data/eval_data/label_patches_resized/ortho_eval_0_0.png\n",
      "/home/derekdb/notebooks/uw-geohack-challenge/data/eval_data/label_patches_resized/ortho_eval_15_7.png\n"
     ]
    }
   ],
   "source": [
    "lbl_patch_list.sort(key=lambda fn: get_row_col(fn))\n",
    "# verify that the lbl_patch_list is sorted \n",
    "print(lbl_patch_list[0])\n",
    "print(lbl_patch_list[-1])"
   ]
  },
  {
   "cell_type": "code",
   "execution_count": 25,
   "metadata": {},
   "outputs": [],
   "source": [
    "dst = str(path_eval/'label_images/ortho_eval_mask_resized.png')\n",
    "tiles2img(lbl_patch_list, dst, origin_size=(7068, 5160, 3))"
   ]
  },
  {
   "cell_type": "markdown",
   "metadata": {},
   "source": [
    "## fin"
   ]
  },
  {
   "cell_type": "code",
   "execution_count": null,
   "metadata": {},
   "outputs": [],
   "source": []
  }
 ],
 "metadata": {
  "kernelspec": {
   "display_name": "py37_pytorch",
   "language": "python",
   "name": "conda-env-py37_pytorch-py"
  },
  "language_info": {
   "codemirror_mode": {
    "name": "ipython",
    "version": 3
   },
   "file_extension": ".py",
   "mimetype": "text/x-python",
   "name": "python",
   "nbconvert_exporter": "python",
   "pygments_lexer": "ipython3",
   "version": "3.7.6"
  }
 },
 "nbformat": 4,
 "nbformat_minor": 2
}
